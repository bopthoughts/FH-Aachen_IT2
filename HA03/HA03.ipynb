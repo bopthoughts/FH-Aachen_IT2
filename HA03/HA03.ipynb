{
 "cells": [
  {
   "cell_type": "markdown",
   "id": "2934d138-72a8-41e9-8150-ffeca42e842f",
   "metadata": {},
   "source": [
    "# Hausaufgabe 03 - Filterung eines stark gestörten Audiosignals "
   ]
  },
  {
   "cell_type": "markdown",
   "id": "ccb00051-80f5-4b3a-bdea-d515a51c0e54",
   "metadata": {
    "tags": []
   },
   "source": [
    "# Aufgabenstellung\n",
    "\n",
    "Die beigefügte Datei `CSIWave01.wav` ist eine Audio-Aufnahme einer Sprachnachricht. Diese Aufnahme ist allerdings bis zur Unhörbarkeit mit Störsignalen überlagert.\n",
    "\n",
    "Ihre Aufgabe ist es, die enthaltene Sprachnachricht zu filtern und wieder soweit hörbar zu machen, dass der Inhalt verständlich ist.\n",
    "Hierzu soll natürlich thinkDSP mit scipy und numpy in sinnvoller Weise (siehe Vorlesungen und Übungen zu dem Thema) eingesetzt werden.  \n",
    "\n",
    "## Mögliche Vorgehensweise\n",
    "\n",
    "Lesen Sie die Datei ein und betrachten Sie die Audiosignale im Frequenzbereich.\n",
    "Nutzen Sie `peaks`, um die Störfrequenzen zu identifizieren.\n",
    "Filtern Sie das Signal im Zeitbereich oder Frequenzbereich.\n",
    "Wandeln Sie das gefilterte Signal wieder in den Zeitbereich und hören Sie sich das Ergebnis an.\n",
    "\n",
    "Bitte geben Sie abschließend den Inhalt der Sprachnachricht an.\n",
    "\n",
    "Viel Erfolg und Spaß.\n",
    "\n",
    "## Zur Bewertung\n",
    "Die Hausaufgabe __muss__ bearbeitet und abgegeben werden. Wir werden stichprobenartig nach folgenden Kriterien bewerten:\n",
    "1. Sind die richtigen Packages und Methoden benutzt worden?\n",
    "2. Haben Sie eine sinnvolle und Ziel führende Vorgehensweise gewählt?\n",
    "3. Haben Sie die Nachricht korrekt verstanden?\n",
    "\n",
    "1 und 2 müssen erfüllt sein, damit die Hausaufgabe als **bearbeitet** gilt\n"
   ]
  },
  {
   "cell_type": "code",
   "execution_count": null,
   "id": "500a26f4-ed08-400e-b965-812567f1cd5a",
   "metadata": {},
   "outputs": [],
   "source": []
  }
 ],
 "metadata": {
  "kernelspec": {
   "display_name": "Python 3 (ipykernel)",
   "language": "python",
   "name": "python3"
  },
  "language_info": {
   "codemirror_mode": {
    "name": "ipython",
    "version": 3
   },
   "file_extension": ".py",
   "mimetype": "text/x-python",
   "name": "python",
   "nbconvert_exporter": "python",
   "pygments_lexer": "ipython3",
   "version": "3.10.8"
  }
 },
 "nbformat": 4,
 "nbformat_minor": 5
}
