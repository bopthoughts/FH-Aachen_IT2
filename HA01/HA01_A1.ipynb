{
 "cells": [
  {
   "cell_type": "markdown",
   "id": "2f1b05a0-9a8d-4c91-a89d-287302756c0f",
   "metadata": {},
   "source": [
    "# Informationstechnik im Maschinenbau II\n",
    "## Hausaufgabe 01 - Textverarbeitung mit Python"
   ]
  },
  {
   "cell_type": "markdown",
   "id": "46d05956-0adc-40cc-ae27-8eaed78a2f8c",
   "metadata": {},
   "source": [
    "Wir wollen wissen, welche 20 Worte in der Textprobe aus Praktikum 01 am häufigsten vorkommen. Diese Aufgabe bearbeiten wir in zwei Teilschritten\n",
    "\n",
    "1. Erzeugen einer Liste aller vorkommenden Worte\n",
    "2. Erzeugen eines Verzeichnisses der Häufigkeiten\n",
    "\n",
    "\n",
    "### Teil 1 Erzeugen einer Liste aller vorkommenden Worte\n",
    "\n",
    "1. Laden Sie `bereinigt.txt`. (Das war das Ergebnis des P02)\n",
    "2. Eliminieren Sie mittels `.replace()` innerhalb einer Schleife Sonderzeichen und Ziffern im Text\n",
    "2. Erzeugen Sie unter Verwendung von `.split()` eine Liste einzelner Worte. Ignorieren Sie Worte mit weniger als 5 Zeichen \n",
    "3. Bereinigen Sie Doubletten in der Liste"
   ]
  },
  {
   "cell_type": "code",
   "execution_count": 1,
   "id": "cf5b2cea-40e2-4e6c-ac1e-1875549bf87f",
   "metadata": {},
   "outputs": [
    {
     "data": {
      "text/plain": [
       "'history of python\\nthe programming language python was conceived in the late 1980s, and its implement'"
      ]
     },
     "execution_count": 1,
     "metadata": {},
     "output_type": "execute_result"
    }
   ],
   "source": [
    "# Laden mit Context-Manager als lange str-Variable\n",
    "texta = open('bereinigt.txt', 'r')\n",
    "text = texta.read()\n",
    "\n",
    "# Ausgabe der ersten 100 Zeichen\n",
    "text[:100]"
   ]
  },
  {
   "cell_type": "code",
   "execution_count": 2,
   "id": "7c2eaebe-fffe-4b0b-94c5-6b038e696525",
   "metadata": {},
   "outputs": [
    {
     "name": "stdout",
     "output_type": "stream",
     "text": [
      "history of python\n",
      "the programming language python was conceived in the late s and its implementation\n"
     ]
    }
   ],
   "source": [
    "# Eliminieren Sie mittels .replace() Sie Satz-/ Sonderzeichen und Ziffern\n",
    "\n",
    "# Liste der zu löschenden Zeichen als string\n",
    "eliminate = ['0', '1', '2', '3', '4', '5', '6', '7', '8', '9', '(', ')', '\"', '\\', ''', '.', ',', ';', '/', '_']\n",
    "\n",
    "# Löschen aller Vorkommen jedes Zeichens in Schleife\n",
    "textb=text\n",
    "for i in eliminate:\n",
    "    textb=textb.replace(i,\"\")\n",
    "# Ausgabe der ersten 100 Zeichen   \n",
    "print(textb[:100])"
   ]
  },
  {
   "cell_type": "code",
   "execution_count": 3,
   "id": "d400a954-3931-4c06-8e42-568b1ca8e6b4",
   "metadata": {},
   "outputs": [
    {
     "data": {
      "text/plain": [
       "['history',\n",
       " 'python',\n",
       " 'programming',\n",
       " 'language',\n",
       " 'python',\n",
       " 'conceived',\n",
       " 'implementation',\n",
       " 'started',\n",
       " 'december',\n",
       " 'guido',\n",
       " 'rossum',\n",
       " 'netherlands',\n",
       " 'successor',\n",
       " 'capable',\n",
       " 'exception',\n",
       " 'handling',\n",
       " 'interfacing',\n",
       " 'amoeba',\n",
       " 'operating',\n",
       " 'system']"
      ]
     },
     "execution_count": 3,
     "metadata": {},
     "output_type": "execute_result"
    }
   ],
   "source": [
    "# Zerlegen Sie mittels .split() in einzelne Worte\n",
    "worte = textb.split()\n",
    "# Löschen Sie alle Worte, deren Länge kleiner gleich 4 ist\n",
    "wortea = [a for a in worte if len(a) >= 5]\n",
    "for a in worte:\n",
    "    if len(a) >= 5:\n",
    "        wortea.append(a)\n",
    "# Ausgabe der ersten 20 Worte\n",
    "wortea[:20]"
   ]
  },
  {
   "cell_type": "code",
   "execution_count": 4,
   "id": "0d0d7608-04da-4f27-8097-8c54865cd18c",
   "metadata": {},
   "outputs": [
    {
     "data": {
      "text/plain": [
       "['classes',\n",
       " 'community',\n",
       " 'though',\n",
       " 'removal',\n",
       " 'version',\n",
       " 'given',\n",
       " 'management',\n",
       " 'fairly',\n",
       " 'approach',\n",
       " 'functools',\n",
       " 'growth',\n",
       " 'typing',\n",
       " 'guido',\n",
       " 'future',\n",
       " 'others',\n",
       " 'available',\n",
       " 'amoeba',\n",
       " 'releases',\n",
       " 'now-unsupported',\n",
       " 'behavior:']"
      ]
     },
     "execution_count": 4,
     "metadata": {},
     "output_type": "execute_result"
    }
   ],
   "source": [
    "# Eliminieren Sie Doppelungen. Denken Sie vorher nach und überlegen Sie sich die kürzest mögliche Lösung OHNE Schleife\n",
    "unique_worte = list(set(wortea))\n",
    "\n",
    "# Ausgabe der ersten 20\n",
    "\n",
    "unique_worte[:20]"
   ]
  },
  {
   "cell_type": "markdown",
   "id": "5aab4178-baed-41fc-9b96-896f6aee476f",
   "metadata": {},
   "source": [
    "## Teil 2 Wortverzeichnis\n",
    "\n",
    "1. Erzeugen sie zunächst eine Liste von Tupeln. `[(Anzahl, Wort), (Anzahl, Wort, ... ]`\n",
    "    >Verwenden Sie `.count()` innerhalb einer `for`-Schleife über die Worte   \n",
    "2. Sortieren Sie die Liste\n",
    "3. Wandeln Sie die Tuple-Liste in ein Dictionary mit den Wörtern als Schlüsseln und den Häufigkeiten als Werte\n",
    "3. Geben Sie die TOP 20 übersichtlich als Tabelle aus\n",
    "4. Speichern Sie  mit Hilfe der Funktion `dump()` aus dem Modul `json` das Verzeichnis in einer json-Datei"
   ]
  },
  {
   "cell_type": "code",
   "execution_count": 5,
   "id": "c75b9b16-bdf1-4c41-b480-ce5450d6d4b5",
   "metadata": {},
   "outputs": [
    {
     "data": {
      "text/plain": [
       "((1, 'community'),\n",
       " (1, 'version'),\n",
       " (1, 'given'),\n",
       " (1, 'management'),\n",
       " (13, 'for'),\n",
       " (1, 's'),\n",
       " (1, 'tv'),\n",
       " (1, 'typing'),\n",
       " (7, 'with'),\n",
       " (1, 'they'))"
      ]
     },
     "execution_count": 5,
     "metadata": {},
     "output_type": "execute_result"
    }
   ],
   "source": [
    "# Legen Sie eine Liste von Tupeln (anzahl, wort) an.\n",
    "tuple_list = worte\n",
    "tuplea_list=[]\n",
    "\n",
    "for wort in set(tuple_list):\n",
    "    anzahl = tuple_list.count(wort)\n",
    "    tuplea_list.append((anzahl, wort))\n",
    "worte_tuple = tuple(tuplea_list)\n",
    "# Ausgabe der ersten Elemente der Tupelliste zur Kontrolle\n",
    "worte_tuple[:10]"
   ]
  },
  {
   "cell_type": "code",
   "execution_count": 6,
   "id": "10587c5b-171c-496b-abc5-0daba0d0ad1a",
   "metadata": {},
   "outputs": [
    {
     "data": {
      "text/plain": [
       "[(44, 'the'),\n",
       " (32, 'python'),\n",
       " (24, 'to'),\n",
       " (23, 'of'),\n",
       " (23, 'a'),\n",
       " (21, 'in'),\n",
       " (21, 'and'),\n",
       " (13, 'for'),\n",
       " (12, 'is'),\n",
       " (10, 'x')]"
      ]
     },
     "execution_count": 6,
     "metadata": {},
     "output_type": "execute_result"
    }
   ],
   "source": [
    "# Sortieren Sie mittels sorted() absteigend nach den Häufigkeiten \n",
    "sorted_tuple_list = sorted(tuplea_list, key=lambda x: x[0], reverse=True)\n",
    "\n",
    "# Ausgabe der ersten 10 Elemente der Tupelliste zur Kontrolle\n",
    "sorted_tuple_list[:10]"
   ]
  },
  {
   "cell_type": "code",
   "execution_count": 7,
   "id": "29485152-1f71-4483-9075-67db7cc29f8b",
   "metadata": {},
   "outputs": [
    {
     "name": "stdout",
     "output_type": "stream",
     "text": [
      "{44: 'the', 32: 'python', 24: 'to', 23: 'a', 21: 'and', 13: 'for', 12: 'is', 10: 'as', 9: 'was', 7: 'function', 6: 'were', 5: 'this', 4: 'can', 3: 'translation', 2: 'done', 1: 'import'}\n"
     ]
    }
   ],
   "source": [
    "# Umwandeln in ein Dictionary\n",
    "verzeichnis = {}\n",
    "for word, count in sorted_tuple_list:\n",
    "    verzeichnis[word] = count\n",
    "\n",
    "print(verzeichnis)"
   ]
  },
  {
   "cell_type": "code",
   "execution_count": 23,
   "id": "29afd01d-f9da-4753-9d67-44fa2e6ab737",
   "metadata": {},
   "outputs": [
    {
     "name": "stdout",
     "output_type": "stream",
     "text": [
      "Die Top 20 der häufigsten Worte\n",
      "--------------------------------\n",
      "the             44                  \n",
      "python          32                  \n",
      "to              24                  \n",
      "a               23                  \n",
      "and             21                  \n",
      "for             13                  \n",
      "is              12                  \n",
      "as              10                  \n",
      "was             9                   \n",
      "function        7                   \n",
      "were            6                   \n",
      "this            5                   \n",
      "can             4                   \n",
      "translation     3                   \n",
      "done            2                   \n",
      "import          1                   \n"
     ]
    }
   ],
   "source": [
    "# Tabellarische Ausgabe des Verzeichnisses mittels formatierter Ausgabe innerhalb einer Schleife\n",
    "header = ['Die Top 20 der häufigsten Worte']\n",
    "print(header[0])\n",
    "print(\"-\" * 32)\n",
    "for wort, anzahl in verzeichnis.items():\n",
    "    print(\"{:<15} {:<20}\".format(anzahl, wort))"
   ]
  },
  {
   "cell_type": "code",
   "execution_count": 27,
   "id": "9d005972-545a-4d75-bca2-a6c5009f94da",
   "metadata": {},
   "outputs": [],
   "source": [
    "# Speichern als json-Datei\n",
    "import json\n",
    "\n",
    "with open('abc.json', \"w\") as abc:\n",
    "    abc.write(json.dumps(verzeichnis))\n"
   ]
  },
  {
   "cell_type": "code",
   "execution_count": 9,
   "id": "dc444aca-f460-4c96-b99a-dde881da2510",
   "metadata": {},
   "outputs": [],
   "source": [
    "# Tabellarische Ausgabe des Verzeichnisses mittels formatierter Ausgabe innerhalb einer Schleife\n",
    "with open('wikipedia_example.json', 'r') as fobj:\n",
    "    data = json.load(fobj)\n",
    "    \n",
    "# Ansehen\n",
    "data\n"
   ]
  },
  {
   "cell_type": "code",
   "execution_count": null,
   "id": "7bbd59a7-ca9c-4fe6-8213-0429de6c589d",
   "metadata": {},
   "outputs": [],
   "source": []
  },
  {
   "cell_type": "code",
   "execution_count": null,
   "id": "ec5d2539-f424-433b-92f8-f5e82926b111",
   "metadata": {},
   "outputs": [],
   "source": []
  }
 ],
 "metadata": {
  "kernelspec": {
   "display_name": "Python 3 (ipykernel)",
   "language": "python",
   "name": "python3"
  },
  "language_info": {
   "codemirror_mode": {
    "name": "ipython",
    "version": 3
   },
   "file_extension": ".py",
   "mimetype": "text/x-python",
   "name": "python",
   "nbconvert_exporter": "python",
   "pygments_lexer": "ipython3",
   "version": "3.10.8"
  }
 },
 "nbformat": 4,
 "nbformat_minor": 5
}
