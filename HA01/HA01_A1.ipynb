{
 "cells": [
  {
   "cell_type": "markdown",
   "id": "2f1b05a0-9a8d-4c91-a89d-287302756c0f",
   "metadata": {},
   "source": [
    "# Informationstechnik im Maschinenbau II\n",
    "## Hausaufgabe 01 - Textverarbeitung mit Python"
   ]
  },
  {
   "cell_type": "markdown",
   "id": "46d05956-0adc-40cc-ae27-8eaed78a2f8c",
   "metadata": {},
   "source": [
    "Wir wollen wissen, welche 20 Worte in der Textprobe aus Praktikum 01 am häufigsten vorkommen. Diese Aufgabe bearbeiten wir in zwei Teilschritten\n",
    "\n",
    "1. Erzeugen einer Liste aller vorkommenden Worte\n",
    "2. Erzeugen eines Verzeichnisses der Häufigkeiten\n",
    "\n",
    "\n",
    "### Teil 1 Erzeugen einer Liste aller vorkommenden Worte\n",
    "\n",
    "1. Laden Sie `bereinigt.txt`. (Das war das Ergebnis des P02)\n",
    "2. Eliminieren Sie mittels `.replace()` innerhalb einer Schleife Sonderzeichen und Ziffern im Text\n",
    "2. Erzeugen Sie unter Verwendung von `.split()` eine Liste einzelner Worte. Ignorieren Sie Worte mit weniger als 5 Zeichen \n",
    "3. Bereinigen Sie Doubletten in der Liste"
   ]
  },
  {
   "cell_type": "code",
   "execution_count": 1,
   "id": "cf5b2cea-40e2-4e6c-ac1e-1875549bf87f",
   "metadata": {},
   "outputs": [
    {
     "data": {
      "text/plain": [
       "'history of python\\nthe programming language python was conceived in the late 1980s, and its implement'"
      ]
     },
     "execution_count": 1,
     "metadata": {},
     "output_type": "execute_result"
    }
   ],
   "source": [
    "# Laden mit Context-Manager als lange str-Variable\n",
    "texta = open('bereinigt.txt', 'r')\n",
    "text = texta.read()\n",
    "\n",
    "# Ausgabe der ersten 100 Zeichen\n",
    "text[:100]"
   ]
  },
  {
   "cell_type": "code",
   "execution_count": 2,
   "id": "7c2eaebe-fffe-4b0b-94c5-6b038e696525",
   "metadata": {},
   "outputs": [
    {
     "name": "stdout",
     "output_type": "stream",
     "text": [
      "history of python\n",
      "the programming language python was conceived in the late s and its implementation\n"
     ]
    }
   ],
   "source": [
    "# Eliminieren Sie mittels .replace() Sie Satz-/ Sonderzeichen und Ziffern\n",
    "\n",
    "# Liste der zu löschenden Zeichen als string\n",
    "eliminate = '0123456789()\"\\'.,;/_'\n",
    "\n",
    "# Löschen aller Vorkommen jedes Zeichens in Schleife\n",
    "textb=text\n",
    "for i in eliminate:\n",
    "    textb=textb.replace(i,\"\")\n",
    "# Ausgabe der ersten 100 Zeichen   \n",
    "print(textb[:100])"
   ]
  },
  {
   "cell_type": "code",
   "execution_count": 3,
   "id": "d400a954-3931-4c06-8e42-568b1ca8e6b4",
   "metadata": {},
   "outputs": [
    {
     "data": {
      "text/plain": [
       "0"
      ]
     },
     "execution_count": 3,
     "metadata": {},
     "output_type": "execute_result"
    }
   ],
   "source": [
    "# Zerlegen Sie mittels .split() in einzelne Worte\n",
    "worte = textb.split()\n",
    "# Löschen Sie alle Worte, deren Länge kleiner gleich 4 ist\n",
    "wortea = []\n",
    "for a in worte:\n",
    "    if len(a) >= 5:\n",
    "        wortea.append(a)\n",
    "# Ausgabe der ersten 20 Worte\n",
    "wortea[:20]\n",
    "wortea.count('the')"
   ]
  },
  {
   "cell_type": "code",
   "execution_count": 4,
   "id": "0d0d7608-04da-4f27-8097-8c54865cd18c",
   "metadata": {},
   "outputs": [
    {
     "data": {
      "text/plain": [
       "['history',\n",
       " 'python',\n",
       " 'programming',\n",
       " 'language',\n",
       " 'conceived',\n",
       " 'implementation',\n",
       " 'started',\n",
       " 'december',\n",
       " 'guido',\n",
       " 'rossum',\n",
       " 'netherlands',\n",
       " 'successor',\n",
       " 'capable',\n",
       " 'exception',\n",
       " 'handling',\n",
       " 'interfacing',\n",
       " 'amoeba',\n",
       " 'operating',\n",
       " 'system',\n",
       " 'pythons']"
      ]
     },
     "execution_count": 4,
     "metadata": {},
     "output_type": "execute_result"
    }
   ],
   "source": [
    "# Eliminieren Sie Doppelungen. Denken Sie vorher nach und überlegen Sie sich die kürzest mögliche Lösung OHNE Schleife\n",
    "unique_worte = list(dict.fromkeys(wortea))\n",
    "\n",
    "# Ausgabe der ersten 20\n",
    "\n",
    "unique_worte[:20]"
   ]
  },
  {
   "cell_type": "markdown",
   "id": "5aab4178-baed-41fc-9b96-896f6aee476f",
   "metadata": {},
   "source": [
    "## Teil 2 Wortverzeichnis\n",
    "\n",
    "1. Erzeugen sie zunächst eine Liste von Tupeln. `[(Anzahl, Wort), (Anzahl, Wort, ... ]`\n",
    "    >Verwenden Sie `.count()` innerhalb einer `for`-Schleife über die Worte   \n",
    "2. Sortieren Sie die Liste\n",
    "3. Wandeln Sie die Tuple-Liste in ein Dictionary mit den Wörtern als Schlüsseln und den Häufigkeiten als Werte\n",
    "3. Geben Sie die TOP 20 übersichtlich als Tabelle aus\n",
    "4. Speichern Sie  mit Hilfe der Funktion `dump()` aus dem Modul `json` das Verzeichnis in einer json-Datei"
   ]
  },
  {
   "cell_type": "code",
   "execution_count": 5,
   "id": "c75b9b16-bdf1-4c41-b480-ce5450d6d4b5",
   "metadata": {},
   "outputs": [
    {
     "data": {
      "text/plain": [
       "((1, 'resembles'),\n",
       " (1, 'reflected'),\n",
       " (2, 'release'),\n",
       " (1, 'needed'),\n",
       " (1, 'memory'),\n",
       " (1, 'old-style'),\n",
       " (1, 'methods'),\n",
       " (2, 'however'),\n",
       " (1, 'dictator'),\n",
       " (1, 'structured'),\n",
       " (1, 'rationale'),\n",
       " (1, 'renaming'),\n",
       " (1, 'transparent'),\n",
       " (1, 'interfacing'),\n",
       " (3, 'exception'),\n",
       " (2, 'statement'),\n",
       " (1, 'complangpython'),\n",
       " (1, 'provide'),\n",
       " (1, 'changes'),\n",
       " (1, 'important'),\n",
       " (1, 'borrowed'),\n",
       " (1, 'automatically'),\n",
       " (1, 'filter'),\n",
       " (2, 'rawinput'),\n",
       " (1, 'rather'),\n",
       " (1, 'monty'),\n",
       " (1, 'leader'),\n",
       " (4, 'print'),\n",
       " (1, 'builtin'),\n",
       " (1, 'removal'),\n",
       " (2, 'built-in'),\n",
       " (4, 'input'),\n",
       " (1, 'functions'),\n",
       " (1, 'declarations'),\n",
       " (1, 'would'),\n",
       " (1, 'central'),\n",
       " (7, 'function'),\n",
       " (2, 'reduce'),\n",
       " (4, 'compatibility'),\n",
       " (2, 'history'),\n",
       " (1, 'perfect'),\n",
       " (1, 'started'),\n",
       " (1, 'mostly'),\n",
       " (1, 'arrays'),\n",
       " (3, 'integer'),\n",
       " (1, 'implementation'),\n",
       " (1, 'successful'),\n",
       " (1, 'never'),\n",
       " (1, 'formed'),\n",
       " (1, 'benevolent'))"
      ]
     },
     "execution_count": 5,
     "metadata": {},
     "output_type": "execute_result"
    }
   ],
   "source": [
    "# Legen Sie eine Liste von Tupeln (anzahl, wort) an.\n",
    "tuple_list = wortea\n",
    "tuplea_list=[]\n",
    "\n",
    "for wort in set(tuple_list):\n",
    "    anzahl = tuple_list.count(wort)\n",
    "    tuplea_list.append((anzahl, wort))\n",
    "worte_tuple = tuple(tuplea_list)\n",
    "# Ausgabe der ersten Elemente der Tupelliste zur Kontrolle\n",
    "worte_tuple[:50]"
   ]
  },
  {
   "cell_type": "code",
   "execution_count": 6,
   "id": "10587c5b-171c-496b-abc5-0daba0d0ad1a",
   "metadata": {},
   "outputs": [
    {
     "data": {
      "text/plain": [
       "[(32, 'python'),\n",
       " (7, 'function'),\n",
       " (6, 'pythons'),\n",
       " (5, 'major'),\n",
       " (5, 'rossum'),\n",
       " (5, 'features'),\n",
       " (4, 'print'),\n",
       " (4, 'input'),\n",
       " (4, 'compatibility'),\n",
       " (4, 'series')]"
      ]
     },
     "execution_count": 6,
     "metadata": {},
     "output_type": "execute_result"
    }
   ],
   "source": [
    "# Sortieren Sie mittels sorted() absteigend nach den Häufigkeiten \n",
    "sorted_tuple_list = sorted(tuplea_list, key=lambda x: x[0], reverse=True)\n",
    "\n",
    "# Ausgabe der ersten 10 Elemente der Tupelliste zur Kontrolle\n",
    "sorted_tuple_list[:10]"
   ]
  },
  {
   "cell_type": "code",
   "execution_count": 21,
   "id": "29485152-1f71-4483-9075-67db7cc29f8b",
   "metadata": {},
   "outputs": [
    {
     "name": "stdout",
     "output_type": "stream",
     "text": [
      "{'python': 32, 'function': 7, 'pythons': 6, 'major': 5, 'rossum': 5, 'features': 5, 'print': 4, 'input': 4, 'compatibility': 4, 'series': 4, 'change': 4, 'exception': 3, 'integer': 3, 'translation': 3, 'development': 3, 'module': 3, 'language': 3, 'programming': 3, 'release': 2, 'however': 2}\n"
     ]
    }
   ],
   "source": [
    "# Umwandeln in ein Dictionary\n",
    "verzeichnis = {}\n",
    "for count, word in sorted_tuple_list[:20]:\n",
    "    verzeichnis[word] = count\n",
    "\n",
    "print(verzeichnis)"
   ]
  },
  {
   "cell_type": "code",
   "execution_count": 38,
   "id": "29afd01d-f9da-4753-9d67-44fa2e6ab737",
   "metadata": {},
   "outputs": [
    {
     "name": "stdout",
     "output_type": "stream",
     "text": [
      "Die Top 20 der häufigsten Worte\n",
      "--------------------------------\n",
      "1  | python         | 32                  \n",
      "2  | function       | 7                   \n",
      "3  | pythons        | 6                   \n",
      "4  | major          | 5                   \n",
      "5  | rossum         | 5                   \n",
      "6  | features       | 5                   \n",
      "7  | print          | 4                   \n",
      "8  | input          | 4                   \n",
      "9  | compatibility  | 4                   \n",
      "10 | series         | 4                   \n",
      "11 | change         | 4                   \n",
      "12 | exception      | 3                   \n",
      "13 | integer        | 3                   \n",
      "14 | translation    | 3                   \n",
      "15 | development    | 3                   \n",
      "16 | module         | 3                   \n",
      "17 | language       | 3                   \n",
      "18 | programming    | 3                   \n",
      "19 | release        | 2                   \n",
      "20 | however        | 2                   \n"
     ]
    }
   ],
   "source": [
    "# Tabellarische Ausgabe des Verzeichnisses mittels formatierter Ausgabe innerhalb einer Schleife\n",
    "header = ['Die Top 20 der häufigsten Worte']\n",
    "print(header[0])\n",
    "print(\"-\" * 32)\n",
    "i=1\n",
    "for wort, anzahl in verzeichnis.items():\n",
    "    print(\"{:<3}{:<2}{:<15}{:<2}{:<20}\".format(i, '|', wort, '|', anzahl))\n",
    "    i=i+1"
   ]
  },
  {
   "cell_type": "code",
   "execution_count": 39,
   "id": "9d005972-545a-4d75-bca2-a6c5009f94da",
   "metadata": {},
   "outputs": [],
   "source": [
    "# Speichern als json-Datei\n",
    "import json\n",
    "\n",
    "with open('abc.json', \"w\") as abc:\n",
    "    abc.write(json.dumps(verzeichnis))\n"
   ]
  },
  {
   "cell_type": "code",
   "execution_count": 40,
   "id": "dc444aca-f460-4c96-b99a-dde881da2510",
   "metadata": {},
   "outputs": [
    {
     "data": {
      "text/plain": [
       "{'python': 32,\n",
       " 'function': 7,\n",
       " 'pythons': 6,\n",
       " 'major': 5,\n",
       " 'rossum': 5,\n",
       " 'features': 5,\n",
       " 'print': 4,\n",
       " 'input': 4,\n",
       " 'compatibility': 4,\n",
       " 'series': 4,\n",
       " 'change': 4,\n",
       " 'exception': 3,\n",
       " 'integer': 3,\n",
       " 'translation': 3,\n",
       " 'development': 3,\n",
       " 'module': 3,\n",
       " 'language': 3,\n",
       " 'programming': 3,\n",
       " 'release': 2,\n",
       " 'however': 2}"
      ]
     },
     "execution_count": 40,
     "metadata": {},
     "output_type": "execute_result"
    }
   ],
   "source": [
    "# Tabellarische Ausgabe des Verzeichnisses mittels formatierter Ausgabe innerhalb einer Schleife\n",
    "with open('abc.json', 'r') as abc:\n",
    "    data = json.load(abc)\n",
    "    \n",
    "# Ansehen\n",
    "data\n"
   ]
  },
  {
   "cell_type": "code",
   "execution_count": null,
   "id": "84a49bdb-dfe8-407d-ac15-1c5f79f26e70",
   "metadata": {},
   "outputs": [],
   "source": []
  }
 ],
 "metadata": {
  "kernelspec": {
   "display_name": "Python 3 (ipykernel)",
   "language": "python",
   "name": "python3"
  },
  "language_info": {
   "codemirror_mode": {
    "name": "ipython",
    "version": 3
   },
   "file_extension": ".py",
   "mimetype": "text/x-python",
   "name": "python",
   "nbconvert_exporter": "python",
   "pygments_lexer": "ipython3",
   "version": "3.10.8"
  }
 },
 "nbformat": 4,
 "nbformat_minor": 5
}
