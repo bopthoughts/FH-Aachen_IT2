{
 "cells": [
  {
   "cell_type": "markdown",
   "id": "2f1b05a0-9a8d-4c91-a89d-287302756c0f",
   "metadata": {},
   "source": [
    "# Informationstechnik im Maschinenbau II\n",
    "## Hausaufgabe 01 - Textverarbeitung mit Python"
   ]
  },
  {
   "cell_type": "markdown",
   "id": "46d05956-0adc-40cc-ae27-8eaed78a2f8c",
   "metadata": {},
   "source": [
    "Wir wollen wissen, welche 20 Worte in der Textprobe aus Praktikum 01 am häufigsten vorkommen. Diese Aufgabe bearbeiten wir in zwei Teilschritten\n",
    "\n",
    "1. Erzeugen einer Liste aller vorkommenden Worte\n",
    "2. Erzeugen eines Verzeichnisses der Häufigkeiten\n",
    "\n",
    "\n",
    "### Teil 1 Erzeugen einer Liste aller vorkommenden Worte\n",
    "\n",
    "1. Laden Sie `bereinigt.txt`. (Das war das Ergebnis des P02)\n",
    "2. Eliminieren Sie mittels `.replace()` innerhalb einer Schleife Sonderzeichen und Ziffern im Text\n",
    "2. Erzeugen Sie unter Verwendung von `.split()` eine Liste einzelner Worte. Ignorieren Sie Worte mit weniger als 5 Zeichen \n",
    "3. Bereinigen Sie Doubletten in der Liste"
   ]
  },
  {
   "cell_type": "code",
   "execution_count": 1,
   "id": "cf5b2cea-40e2-4e6c-ac1e-1875549bf87f",
   "metadata": {},
   "outputs": [
    {
     "data": {
      "text/plain": [
       "'history of python\\nthe programming language python was conceived in the late 1980s, and its implement'"
      ]
     },
     "execution_count": 1,
     "metadata": {},
     "output_type": "execute_result"
    }
   ],
   "source": [
    "# Laden mit Context-Manager als lange str-Variable\n",
    "texta = open('bereinigt.txt', 'r')\n",
    "text = texta.read()\n",
    "\n",
    "# Ausgabe der ersten 100 Zeichen\n",
    "text[:100]"
   ]
  },
  {
   "cell_type": "code",
   "execution_count": 2,
   "id": "7c2eaebe-fffe-4b0b-94c5-6b038e696525",
   "metadata": {},
   "outputs": [
    {
     "name": "stdout",
     "output_type": "stream",
     "text": [
      "history of python\n",
      "the programming language python was conceived in the late s and its implementation\n"
     ]
    }
   ],
   "source": [
    "# Eliminieren Sie mittels .replace() Sie Satz-/ Sonderzeichen und Ziffern\n",
    "\n",
    "# Liste der zu löschenden Zeichen als string\n",
    "eliminate = '0123456789()\"\\'.,;/_'\n",
    "\n",
    "# Löschen aller Vorkommen jedes Zeichens in Schleife\n",
    "textb=text\n",
    "for i in eliminate:\n",
    "    textb=textb.replace(i,\"\")\n",
    "# Ausgabe der ersten 100 Zeichen   \n",
    "print(textb[:100])"
   ]
  },
  {
   "cell_type": "code",
   "execution_count": 3,
   "id": "d400a954-3931-4c06-8e42-568b1ca8e6b4",
   "metadata": {},
   "outputs": [
    {
     "data": {
      "text/plain": [
       "0"
      ]
     },
     "execution_count": 3,
     "metadata": {},
     "output_type": "execute_result"
    }
   ],
   "source": [
    "# Zerlegen Sie mittels .split() in einzelne Worte\n",
    "worte = textb.split()\n",
    "# Löschen Sie alle Worte, deren Länge kleiner gleich 4 ist\n",
    "wortea = []\n",
    "for a in worte:\n",
    "    if len(a) >= 5:\n",
    "        wortea.append(a)\n",
    "# Ausgabe der ersten 20 Worte\n",
    "wortea[:20]\n",
    "wortea.count('the')"
   ]
  },
  {
   "cell_type": "code",
   "execution_count": 4,
   "id": "0d0d7608-04da-4f27-8097-8c54865cd18c",
   "metadata": {},
   "outputs": [
    {
     "data": {
      "text/plain": [
       "['history',\n",
       " 'python',\n",
       " 'programming',\n",
       " 'language',\n",
       " 'conceived',\n",
       " 'implementation',\n",
       " 'started',\n",
       " 'december',\n",
       " 'guido',\n",
       " 'rossum',\n",
       " 'netherlands',\n",
       " 'successor',\n",
       " 'capable',\n",
       " 'exception',\n",
       " 'handling',\n",
       " 'interfacing',\n",
       " 'amoeba',\n",
       " 'operating',\n",
       " 'system',\n",
       " 'pythons']"
      ]
     },
     "execution_count": 4,
     "metadata": {},
     "output_type": "execute_result"
    }
   ],
   "source": [
    "# Eliminieren Sie Doppelungen. Denken Sie vorher nach und überlegen Sie sich die kürzest mögliche Lösung OHNE Schleife\n",
    "unique_worte = list(dict.fromkeys(wortea))\n",
    "\n",
    "# Ausgabe der ersten 20\n",
    "\n",
    "unique_worte[:20]"
   ]
  },
  {
   "cell_type": "markdown",
   "id": "5aab4178-baed-41fc-9b96-896f6aee476f",
   "metadata": {},
   "source": [
    "## Teil 2 Wortverzeichnis\n",
    "\n",
    "1. Erzeugen sie zunächst eine Liste von Tupeln. `[(Anzahl, Wort), (Anzahl, Wort, ... ]`\n",
    "    >Verwenden Sie `.count()` innerhalb einer `for`-Schleife über die Worte   \n",
    "2. Sortieren Sie die Liste\n",
    "3. Wandeln Sie die Tuple-Liste in ein Dictionary mit den Wörtern als Schlüsseln und den Häufigkeiten als Werte\n",
    "3. Geben Sie die TOP 20 übersichtlich als Tabelle aus\n",
    "4. Speichern Sie  mit Hilfe der Funktion `dump()` aus dem Modul `json` das Verzeichnis in einer json-Datei"
   ]
  },
  {
   "cell_type": "code",
   "execution_count": 5,
   "id": "c75b9b16-bdf1-4c41-b480-ce5450d6d4b5",
   "metadata": {},
   "outputs": [
    {
     "data": {
      "text/plain": [
       "((1, 'intended'),\n",
       " (1, 'resembles'),\n",
       " (1, 'february'),\n",
       " (1, 'title'),\n",
       " (1, 'changing'),\n",
       " (1, 'stage'),\n",
       " (1, 'mostly'),\n",
       " (1, 'amoeba'),\n",
       " (1, 'modula-s'),\n",
       " (1, 'backwards-incompatible'),\n",
       " (1, 'testing'),\n",
       " (1, 'milestone'),\n",
       " (1, 'started'),\n",
       " (1, 'types'),\n",
       " (2, 'rawinput'),\n",
       " (1, 'future'),\n",
       " (1, 'handle'),\n",
       " (1, 'rather'),\n",
       " (2, 'bytes'),\n",
       " (1, 'version'),\n",
       " (1, 'now-unsupported'),\n",
       " (1, 'datatypes'),\n",
       " (1, 'growth'),\n",
       " (2, 'after'),\n",
       " (1, 'discussion'),\n",
       " (2, 'released'),\n",
       " (1, 'needed'),\n",
       " (1, 'corresponding'),\n",
       " (1, 'provide'),\n",
       " (1, 'monty'),\n",
       " (1, 'october'),\n",
       " (1, 'optional'),\n",
       " (1, 'review'),\n",
       " (1, 'behaves'),\n",
       " (1, 'counting'),\n",
       " (1, 'others'),\n",
       " (1, 'benevolent'),\n",
       " (2, 'process'),\n",
       " (1, 'annotations'),\n",
       " (1, 'adding'),\n",
       " (1, 'never'),\n",
       " (1, 'functools'),\n",
       " (1, 'accumulator'),\n",
       " (1, 'transparent'),\n",
       " (1, 'masked'),\n",
       " (1, 'nonetheless'),\n",
       " (3, 'exception'),\n",
       " (2, 'handling'),\n",
       " (1, 'central'),\n",
       " (1, 'cycle-detecting'))"
      ]
     },
     "execution_count": 5,
     "metadata": {},
     "output_type": "execute_result"
    }
   ],
   "source": [
    "# Legen Sie eine Liste von Tupeln (anzahl, wort) an.\n",
    "tuple_list = wortea\n",
    "tuplea_list=[]\n",
    "\n",
    "for wort in set(tuple_list):\n",
    "    anzahl = tuple_list.count(wort)\n",
    "    tuplea_list.append((anzahl, wort))\n",
    "worte_tuple = tuple(tuplea_list)\n",
    "# Ausgabe der ersten Elemente der Tupelliste zur Kontrolle\n",
    "worte_tuple[:50]"
   ]
  },
  {
   "cell_type": "code",
   "execution_count": 6,
   "id": "10587c5b-171c-496b-abc5-0daba0d0ad1a",
   "metadata": {},
   "outputs": [
    {
     "data": {
      "text/plain": [
       "[(32, 'python'),\n",
       " (7, 'function'),\n",
       " (6, 'pythons'),\n",
       " (5, 'major'),\n",
       " (5, 'features'),\n",
       " (5, 'rossum'),\n",
       " (4, 'series'),\n",
       " (4, 'print'),\n",
       " (4, 'compatibility'),\n",
       " (4, 'input')]"
      ]
     },
     "execution_count": 6,
     "metadata": {},
     "output_type": "execute_result"
    }
   ],
   "source": [
    "# Sortieren Sie mittels sorted() absteigend nach den Häufigkeiten \n",
    "sorted_tuple_list = sorted(tuplea_list, key=lambda x: x[0], reverse=True)\n",
    "\n",
    "# Ausgabe der ersten 10 Elemente der Tupelliste zur Kontrolle\n",
    "sorted_tuple_list[:10]"
   ]
  },
  {
   "cell_type": "code",
   "execution_count": 7,
   "id": "29485152-1f71-4483-9075-67db7cc29f8b",
   "metadata": {},
   "outputs": [
    {
     "name": "stdout",
     "output_type": "stream",
     "text": [
      "{'python': 32, 'function': 7, 'pythons': 6, 'major': 5, 'features': 5, 'rossum': 5, 'series': 4, 'print': 4, 'compatibility': 4, 'input': 4, 'change': 4, 'exception': 3, 'module': 3, 'integer': 3, 'translation': 3, 'development': 3, 'programming': 3, 'language': 3, 'rawinput': 2, 'bytes': 2}\n"
     ]
    }
   ],
   "source": [
    "# Umwandeln in ein Dictionary\n",
    "verzeichnis = {}\n",
    "for count, word in sorted_tuple_list[:20]:\n",
    "    verzeichnis[word] = count\n",
    "\n",
    "print(verzeichnis)"
   ]
  },
  {
   "cell_type": "code",
   "execution_count": 8,
   "id": "29afd01d-f9da-4753-9d67-44fa2e6ab737",
   "metadata": {},
   "outputs": [
    {
     "name": "stdout",
     "output_type": "stream",
     "text": [
      "Die Top 20 der häufigsten Worte\n",
      "--------------------------------\n",
      "1  | python         | 32                  \n",
      "2  | function       | 7                   \n",
      "3  | pythons        | 6                   \n",
      "4  | major          | 5                   \n",
      "5  | features       | 5                   \n",
      "6  | rossum         | 5                   \n",
      "7  | series         | 4                   \n",
      "8  | print          | 4                   \n",
      "9  | compatibility  | 4                   \n",
      "10 | input          | 4                   \n",
      "11 | change         | 4                   \n",
      "12 | exception      | 3                   \n",
      "13 | module         | 3                   \n",
      "14 | integer        | 3                   \n",
      "15 | translation    | 3                   \n",
      "16 | development    | 3                   \n",
      "17 | programming    | 3                   \n",
      "18 | language       | 3                   \n",
      "19 | rawinput       | 2                   \n",
      "20 | bytes          | 2                   \n"
     ]
    }
   ],
   "source": [
    "# Tabellarische Ausgabe des Verzeichnisses mittels formatierter Ausgabe innerhalb einer Schleife\n",
    "header = ['Die Top 20 der häufigsten Worte']\n",
    "print(header[0])\n",
    "print(\"-\" * 32)\n",
    "i=1\n",
    "for wort, anzahl in verzeichnis.items():\n",
    "    print(\"{:<3}{:<2}{:<15}{:<2}{:<20}\".format(i, '|', wort, '|', anzahl))\n",
    "    i=i+1"
   ]
  },
  {
   "cell_type": "code",
   "execution_count": 9,
   "id": "9d005972-545a-4d75-bca2-a6c5009f94da",
   "metadata": {},
   "outputs": [],
   "source": [
    "# Speichern als json-Datei\n",
    "import json\n",
    "\n",
    "with open('abc.json', \"w\") as abc:\n",
    "    abc.write(json.dumps(verzeichnis))\n"
   ]
  },
  {
   "cell_type": "code",
   "execution_count": 10,
   "id": "dc444aca-f460-4c96-b99a-dde881da2510",
   "metadata": {},
   "outputs": [
    {
     "data": {
      "text/plain": [
       "{'python': 32,\n",
       " 'function': 7,\n",
       " 'pythons': 6,\n",
       " 'major': 5,\n",
       " 'features': 5,\n",
       " 'rossum': 5,\n",
       " 'series': 4,\n",
       " 'print': 4,\n",
       " 'compatibility': 4,\n",
       " 'input': 4,\n",
       " 'change': 4,\n",
       " 'exception': 3,\n",
       " 'module': 3,\n",
       " 'integer': 3,\n",
       " 'translation': 3,\n",
       " 'development': 3,\n",
       " 'programming': 3,\n",
       " 'language': 3,\n",
       " 'rawinput': 2,\n",
       " 'bytes': 2}"
      ]
     },
     "execution_count": 10,
     "metadata": {},
     "output_type": "execute_result"
    }
   ],
   "source": [
    "# Tabellarische Ausgabe des Verzeichnisses mittels formatierter Ausgabe innerhalb einer Schleife\n",
    "with open('abc.json', 'r') as abc:\n",
    "    data = json.load(abc)\n",
    "    \n",
    "# Ansehen\n",
    "data\n"
   ]
  },
  {
   "cell_type": "code",
   "execution_count": null,
   "id": "84a49bdb-dfe8-407d-ac15-1c5f79f26e70",
   "metadata": {},
   "outputs": [],
   "source": []
  }
 ],
 "metadata": {
  "kernelspec": {
   "display_name": "Python 3 (ipykernel)",
   "language": "python",
   "name": "python3"
  },
  "language_info": {
   "codemirror_mode": {
    "name": "ipython",
    "version": 3
   },
   "file_extension": ".py",
   "mimetype": "text/x-python",
   "name": "python",
   "nbconvert_exporter": "python",
   "pygments_lexer": "ipython3",
   "version": "3.10.8"
  }
 },
 "nbformat": 4,
 "nbformat_minor": 5
}
