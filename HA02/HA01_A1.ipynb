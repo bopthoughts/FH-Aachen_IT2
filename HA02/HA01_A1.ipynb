{
 "cells": [
  {
   "cell_type": "markdown",
   "id": "2f1b05a0-9a8d-4c91-a89d-287302756c0f",
   "metadata": {},
   "source": [
    "# Informationstechnik im Maschinenbau II\n",
    "## Hausaufgabe 01 - Textverarbeitung mit Python"
   ]
  },
  {
   "cell_type": "markdown",
   "id": "46d05956-0adc-40cc-ae27-8eaed78a2f8c",
   "metadata": {},
   "source": [
    "Wir wollen wissen, welche 20 Worte in der Textprobe aus Praktikum 01 am häufigsten vorkommen. Diese Aufgabe bearbeiten wir in zwei Teilschritten\n",
    "\n",
    "1. Erzeugen einer Liste aller vorkommenden Worte\n",
    "2. Erzeugen eines Verzeichnisses der Häufigkeiten\n",
    "\n",
    "\n",
    "### Teil 1 Erzeugen einer Liste aller vorkommenden Worte\n",
    "\n",
    "1. Laden Sie `bereinigt.txt`. (Das war das Ergebnis des P02)\n",
    "2. Eliminieren Sie mittels `.replace()` innerhalb einer Schleife Sonderzeichen und Ziffern im Text\n",
    "2. Erzeugen Sie unter Verwendung von `.split()` eine Liste einzelner Worte. Ignorieren Sie Worte mit weniger als 5 Zeichen \n",
    "3. Bereinigen Sie Doubletten in der Liste"
   ]
  },
  {
   "cell_type": "code",
   "execution_count": null,
   "id": "cf5b2cea-40e2-4e6c-ac1e-1875549bf87f",
   "metadata": {},
   "outputs": [],
   "source": [
    "# Laden mit Context-Manager als lange str-Variable\n",
    "\n",
    "# Ausgabe der ersten 100 Zeichen\n"
   ]
  },
  {
   "cell_type": "code",
   "execution_count": null,
   "id": "7c2eaebe-fffe-4b0b-94c5-6b038e696525",
   "metadata": {},
   "outputs": [],
   "source": [
    "# Eliminieren Sie mittels .replace() Sie Satz-/ Sonderzeichen und Ziffern\n",
    "\n",
    "# Liste der zu löschenden Zeichen als string\n",
    "eliminate = '0123456789()\"\\'.,;/_'\n",
    "\n",
    "# Löschen aller Vorkommen jedes Zeichens in Schleife\n",
    "\n",
    "# Ausgabe der ersten 100 Zeichen   \n"
   ]
  },
  {
   "cell_type": "code",
   "execution_count": null,
   "id": "d400a954-3931-4c06-8e42-568b1ca8e6b4",
   "metadata": {},
   "outputs": [],
   "source": [
    "# Zerlegen Sie mittels .split() in einzelne Worte\n",
    "worte = \n",
    "# Löschen Sie alle Worte, deren Länge kleiner gleich 4 ist\n",
    "\n",
    "# Ausgabe der ersten 20 Worte\n"
   ]
  },
  {
   "cell_type": "code",
   "execution_count": null,
   "id": "0d0d7608-04da-4f27-8097-8c54865cd18c",
   "metadata": {},
   "outputs": [],
   "source": [
    "# Eliminieren Sie Doppelungen. Denken Sie vorher nach und überlegen Sie sich die kürzest mögliche Lösung OHNE Schleife\n",
    "unique_worte = \n",
    "\n",
    "# Ausgabe der ersten 20\n"
   ]
  },
  {
   "cell_type": "markdown",
   "id": "5aab4178-baed-41fc-9b96-896f6aee476f",
   "metadata": {},
   "source": [
    "## Teil 2 Wortverzeichnis\n",
    "\n",
    "1. Erzeugen sie zunächst eine Liste von Tupeln. `[(Anzahl, Wort), (Anzahl, Wort, ... ]`\n",
    "    >Verwenden Sie `.count()` innerhalb einer `for`-Schleife über die Worte   \n",
    "2. Sortieren Sie die Liste\n",
    "3. Wandeln Sie die Tuple-Liste in ein Dictionary mit den Wörtern als Schlüsseln und den Häufigkeiten als Werte\n",
    "3. Geben Sie die TOP 20 übersichtlich als Tabelle aus\n",
    "4. Speichern Sie  mit Hilfe der Funktion `dump()` aus dem Modul `json` das Verzeichnis in einer json-Datei"
   ]
  },
  {
   "cell_type": "code",
   "execution_count": null,
   "id": "c75b9b16-bdf1-4c41-b480-ce5450d6d4b5",
   "metadata": {},
   "outputs": [],
   "source": [
    "# Legen Sie eine Liste von Tupeln (anzahl, wort) an.\n",
    "tuple_list = \n",
    "\n",
    "# Ausgabe der ersten Elemente der Tupelliste zur Kontrolle\n"
   ]
  },
  {
   "cell_type": "code",
   "execution_count": null,
   "id": "10587c5b-171c-496b-abc5-0daba0d0ad1a",
   "metadata": {},
   "outputs": [],
   "source": [
    "# Sortieren Sie mittels sorted() absteigend nach den Häufigkeiten \n",
    "sorted_tuple_list = \n",
    "\n",
    "# Ausgabe der ersten 10 Elemente der Tupelliste zur Kontrolle\n"
   ]
  },
  {
   "cell_type": "code",
   "execution_count": null,
   "id": "29485152-1f71-4483-9075-67db7cc29f8b",
   "metadata": {},
   "outputs": [],
   "source": [
    "# Umwandeln in ein Dictionary\n",
    "verzeichnis = "
   ]
  },
  {
   "cell_type": "code",
   "execution_count": null,
   "id": "29afd01d-f9da-4753-9d67-44fa2e6ab737",
   "metadata": {},
   "outputs": [],
   "source": [
    "# Tabellarische Ausgabe des Verzeichnisses mittels formatierter Ausgabe innerhalb einer Schleife\n",
    "header = 'Die Top 20 der häufigsten Worte'\n",
    "\n"
   ]
  },
  {
   "cell_type": "code",
   "execution_count": null,
   "id": "9d005972-545a-4d75-bca2-a6c5009f94da",
   "metadata": {},
   "outputs": [],
   "source": [
    "# Speichern als json-Datei\n",
    "import json\n",
    "\n",
    "\n"
   ]
  }
 ],
 "metadata": {
  "kernelspec": {
   "display_name": "Python 3 (ipykernel)",
   "language": "python",
   "name": "python3"
  },
  "language_info": {
   "codemirror_mode": {
    "name": "ipython",
    "version": 3
   },
   "file_extension": ".py",
   "mimetype": "text/x-python",
   "name": "python",
   "nbconvert_exporter": "python",
   "pygments_lexer": "ipython3",
   "version": "3.10.8"
  }
 },
 "nbformat": 4,
 "nbformat_minor": 5
}
